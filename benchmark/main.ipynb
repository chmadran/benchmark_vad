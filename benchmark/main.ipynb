{
 "cells": [
  {
   "cell_type": "code",
   "execution_count": 1,
   "metadata": {},
   "outputs": [],
   "source": [
    "import json\n",
    "from pathlib import Path\n",
    "from itertools import product"
   ]
  },
  {
   "cell_type": "code",
   "execution_count": 2,
   "metadata": {},
   "outputs": [],
   "source": [
    "DEFAULT_PARAMS = {\n",
    "    \"webrtc\": {\n",
    "        \"mode\": [0, 1, 2, 3],  \n",
    "        \"window_size_samples\": [0.01, 0.02, 0.03], \n",
    "    },\n",
    "    \"silero\": {\n",
    "        \"threshold\": [0.2, 0.3, 0.4, 0.5, 0.6], \n",
    "    },\n",
    "    \"pyannote\": {\n",
    "        \"onset\": [0.5], \n",
    "        \"offset\": [0.5],\n",
    "        \"min_duration_on\": [0.0],\n",
    "        \"min_duration_off\": [0.0]\n",
    "    }\n",
    "}\n",
    "\n",
    "def load_config_from_file(config_file: Path, model):\n",
    "    with open(config_file, \"r\") as f:\n",
    "        params = json.load(f)\n",
    "    return params[model]\n",
    "\n",
    "\n",
    "def generate_experiments(params: dict):\n",
    "    if not params:\n",
    "        return [{}]\n",
    "    \n",
    "    keys = list(params.keys())\n",
    "    values = list(params.values())\n",
    "    params_grid = []\n",
    "    \n",
    "    for combination in product(*values):\n",
    "        param_dict = dict(zip(keys, combination))\n",
    "        params_grid.append(param_dict)\n",
    "    \n",
    "    return params_grid\n"
   ]
  },
  {
   "cell_type": "code",
   "execution_count": 4,
   "metadata": {},
   "outputs": [
    {
     "name": "stdout",
     "output_type": "stream",
     "text": [
      "[{'onset': 0.5, 'offset': 0.5, 'min_duration_on': 0.0, 'min_duration_off': 0.0}]\n",
      "[{'onset': 0.5, 'offset': 0.5, 'min_duration_on': 0.0, 'min_duration_off': 0.0}]\n"
     ]
    }
   ],
   "source": [
    "def init_params(config_file: Path, models: list):\n",
    "    \n",
    "    params = {}\n",
    "    experiments = {}\n",
    "\n",
    "    for model in models:\n",
    "        if config_file:\n",
    "            params = load_config_from_file(config_file, model)\n",
    "        else:\n",
    "            params = DEFAULT_PARAMS[model]\n",
    "    \n",
    "        experiments[model] = generate_experiments(params)\n",
    "\n",
    "    return experiments\n",
    "\n",
    "\n",
    "experiments1 = init_params(config_file=\"./params/config.json\", models=[\"silero\", \"webrtc\", \"pyannote\"])\n",
    "experiments = init_params(config_file=\"\", models=[\"silero\", \"webrtc\", \"pyannote\"])\n",
    "\n",
    "print(experiments[\"pyannote\"])\n",
    "print(experiments1[\"pyannote\"])"
   ]
  },
  {
   "cell_type": "code",
   "execution_count": null,
   "metadata": {},
   "outputs": [],
   "source": []
  }
 ],
 "metadata": {
  "kernelspec": {
   "display_name": "base",
   "language": "python",
   "name": "python3"
  },
  "language_info": {
   "codemirror_mode": {
    "name": "ipython",
    "version": 3
   },
   "file_extension": ".py",
   "mimetype": "text/x-python",
   "name": "python",
   "nbconvert_exporter": "python",
   "pygments_lexer": "ipython3",
   "version": "3.12.9"
  }
 },
 "nbformat": 4,
 "nbformat_minor": 2
}
